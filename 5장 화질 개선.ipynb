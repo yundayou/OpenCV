{
 "cells": [
  {
   "cell_type": "markdown",
   "id": "6c90f585",
   "metadata": {},
   "source": [
    "# 파이썬 OpenCV를 이용한 영상처리_허진경\n",
    "* Jupyter Notebook Info\n",
    ">- Dayoung Yun\n",
    ">- 2021/11/22\n",
    "\n",
    "## 5장 화질 개선\n",
    "### 잡음제거\n",
    "#### 평균값 필터\n",
    ">- 주목 화소와 주위 8근방 화소의 평균을 이용해서 잡음을 제거"
   ]
  },
  {
   "cell_type": "code",
   "execution_count": 1,
   "id": "5fcd1717",
   "metadata": {
    "ExecuteTime": {
     "end_time": "2021-11-25T06:54:26.325004Z",
     "start_time": "2021-11-25T06:54:25.818667Z"
    }
   },
   "outputs": [],
   "source": [
    "import numpy as np\n",
    "\n",
    "def mean_blur(img):\n",
    "    A = np.zeros(img.shape, dtype = np.uint8)\n",
    "    height, width = img.shape\n",
    "    for y in range(1, height -1):\n",
    "        for x in range(1, width-1):\n",
    "            S = 1 * img[y-1, x-1] + img[y-1, x] + img[y-1, x+1]\\\n",
    "            +img[y, x-1] + img[y, x] + img[y, x+1] \\\n",
    "            +img[y+1, x-1] + img[y+1, x] + img[y+1, x+1]\n",
    "        \n",
    "            S = S/9\n",
    "            if S > 255:\n",
    "                A[y,x] = 255\n",
    "            elif S <0:\n",
    "                A[y,x] = 0\n",
    "            else:\n",
    "                A[y,x] = int(S)\n",
    "            \n",
    "    return A\n",
    "    "
   ]
  },
  {
   "cell_type": "code",
   "execution_count": 2,
   "id": "e4ed3fec",
   "metadata": {
    "ExecuteTime": {
     "end_time": "2021-11-25T06:54:30.969838Z",
     "start_time": "2021-11-25T06:54:26.327216Z"
    }
   },
   "outputs": [],
   "source": [
    "import cv2\n",
    "\n",
    "lena_gray = cv2.imread('lena_std.jpg', cv2.IMREAD_GRAYSCALE)\n",
    "\n",
    "cv2.imshow('lena', lena_gray)\n",
    "cv2.imshow('Mean Blur', mean_blur(lena_gray))\n",
    "cv2.waitKey()\n",
    "cv2.destroyAllWindows()"
   ]
  },
  {
   "cell_type": "markdown",
   "id": "ea16f31c",
   "metadata": {},
   "source": [
    "#### cv2.blur(src, ksize, [, borderType]) ->dst\n",
    ">- 커널 영역의 모든 핅셀의 평균을 계산하고 현재 주목하는 중앙 화소를 이 평균으로 대체\n",
    ">- 커널의 넓이와 높이를 지정해야 한다"
   ]
  },
  {
   "cell_type": "code",
   "execution_count": 3,
   "id": "8a0e11cd",
   "metadata": {
    "ExecuteTime": {
     "end_time": "2021-11-25T06:54:33.247408Z",
     "start_time": "2021-11-25T06:54:30.973836Z"
    }
   },
   "outputs": [],
   "source": [
    "import cv2\n",
    "\n",
    "lena_gray = cv2.imread('lena_std.jpg', cv2.IMREAD_GRAYSCALE)\n",
    "cv2.imshow('lena', lena_gray)\n",
    "cv2.imshow('Mean Blur', cv2.blur(lena_gray,(3,3)))\n",
    "cv2.waitKey()\n",
    "cv2.destroyAllWindows()"
   ]
  },
  {
   "cell_type": "markdown",
   "id": "416945c0",
   "metadata": {
    "ExecuteTime": {
     "end_time": "2021-11-22T06:38:21.616583Z",
     "start_time": "2021-11-22T06:38:18.025Z"
    }
   },
   "source": [
    "#### 메디안 필터\n",
    ">- 주목 화소와 8근방 화소의 중앙값을 이용해서 잡음을 제거\n",
    ">- 화소를 정렬한 후 중앙값을 선택\n",
    ">- 정렬하는 데 시간이 많이 소요"
   ]
  },
  {
   "cell_type": "code",
   "execution_count": 4,
   "id": "b1c04992",
   "metadata": {
    "ExecuteTime": {
     "end_time": "2021-11-25T06:54:33.265244Z",
     "start_time": "2021-11-25T06:54:33.253494Z"
    }
   },
   "outputs": [],
   "source": [
    "import numpy as np\n",
    "\n",
    "def median_blur(img):\n",
    "    A = np.zeros(img.shape, dtype = np.uint8)\n",
    "    height, width = img.shape[:2]\n",
    "    for y in range(height):\n",
    "        for x in range(width):\n",
    "            try:\n",
    "                \n",
    "                S = [img[y-1, x-1], img[y-1, x], img[y-1, x+1], \\\n",
    "                    img[y, x-1], img[y, x], img[y, x+1], \\\n",
    "                    img[y+1, x-1], img[y+1, x], img[y+1, x+1]]\n",
    "                A[y,x] = np.median(S)\n",
    "            except:\n",
    "                pass\n",
    "            \n",
    "    return A"
   ]
  },
  {
   "cell_type": "code",
   "execution_count": 5,
   "id": "bb64286e",
   "metadata": {
    "ExecuteTime": {
     "end_time": "2021-11-25T06:54:35.982533Z",
     "start_time": "2021-11-25T06:54:33.270276Z"
    }
   },
   "outputs": [],
   "source": [
    "import cv2\n",
    "\n",
    "lena_gray = cv2.imread('lena_std.jpg', cv2.IMREAD_GRAYSCALE)\n",
    "cv2.imshow('Lena', lena_gray)\n",
    "cv2.imshow('Median', median_blur(lena_gray))\n",
    "cv2.waitKey()\n",
    "cv2.destroyAllWindows()"
   ]
  },
  {
   "cell_type": "markdown",
   "id": "f342a1d8",
   "metadata": {},
   "source": [
    "#### cv2.medianBlur(scr, ksize[, borderType]) -> dst"
   ]
  },
  {
   "cell_type": "code",
   "execution_count": 6,
   "id": "550e1e1f",
   "metadata": {
    "ExecuteTime": {
     "end_time": "2021-11-25T06:54:36.913687Z",
     "start_time": "2021-11-25T06:54:35.986855Z"
    }
   },
   "outputs": [],
   "source": [
    "import cv2\n",
    "\n",
    "lena_gray = cv2.imread('lena_std.jpg', cv2.IMREAD_GRAYSCALE)\n",
    "cv2.imshow('Lena', lena_gray)\n",
    "cv2.imshow('Median', cv2.medianBlur(lena_gray, 3))\n",
    "cv2.waitKey()\n",
    "cv2.destroyAllWindows()"
   ]
  },
  {
   "cell_type": "markdown",
   "id": "8e853c2a",
   "metadata": {},
   "source": [
    "#### scipy.ndimage.median_filter(input, size = None, footprint = None, output = None, mode = 'reflect' , cval = 0.0, origin = 0)"
   ]
  },
  {
   "cell_type": "code",
   "execution_count": 7,
   "id": "29624897",
   "metadata": {
    "ExecuteTime": {
     "end_time": "2021-11-25T06:54:37.276607Z",
     "start_time": "2021-11-25T06:54:36.918131Z"
    }
   },
   "outputs": [],
   "source": [
    "from scipy import ndimage\n",
    "\n",
    "import cv2\n",
    "\n",
    "lena_gray = cv2.imread('lena_std.jpg', cv2.IMREAD_GRAYSCALE)\n",
    "result = ndimage.median_filter(lena_gray, size = 3)\n",
    "cv2.imshow('Lena', lena_gray)\n",
    "cv2.imshow('Median filter', result)\n",
    "cv2.waitKey()\n",
    "cv2.destroyAllWindows()"
   ]
  },
  {
   "cell_type": "markdown",
   "id": "c1d1f3a4",
   "metadata": {},
   "source": [
    "#### 가우시안 필터\n",
    ">- 필터는 중앙값이 가장 크고 멀어질수록 그 값이 작아지느 커널 사용\n",
    ">- 현재 주목화소에 가중치를 더 부여하고 현재 화소와 상/하/좌/우 화소의 길이가 1이라면 대각선 성분의 길이는 루트2이므로 상/하/좌/우 화소는 대각선 화소에 비해 더 높은 가중치를 준다."
   ]
  },
  {
   "cell_type": "code",
   "execution_count": 8,
   "id": "b8d2cb7c",
   "metadata": {
    "ExecuteTime": {
     "end_time": "2021-11-25T06:54:37.289361Z",
     "start_time": "2021-11-25T06:54:37.282888Z"
    }
   },
   "outputs": [],
   "source": [
    "import numpy as np\n",
    "\n",
    "def gaussian_blur(img):\n",
    "    img_ = np.zeros(img.shape, dtype = np.uint8)\n",
    "    height, width = img.shape\n",
    "    for y in range(height):\n",
    "        for x in range(width):\n",
    "            try:\n",
    "                T = 1 * img[y-1, x-1] + 2 * img[y-1, x] + 1 * img[y-1, x+1] \\\n",
    "                    + 2 * img[y, x-1] + 4 * img[y, x] + 2 * img[y, x+1] \\\n",
    "                    + 1* img[y+1, x-1] + 2* img[y+1, x] + 1 * img[y+1, x+1]\n",
    "            \n",
    "                img_[y,x] = int(T/16)\n",
    "            except:\n",
    "                pass\n",
    "    return img_"
   ]
  },
  {
   "cell_type": "code",
   "execution_count": 9,
   "id": "c91364a1",
   "metadata": {
    "ExecuteTime": {
     "end_time": "2021-11-25T06:54:42.229309Z",
     "start_time": "2021-11-25T06:54:37.293146Z"
    }
   },
   "outputs": [],
   "source": [
    "import cv2\n",
    "\n",
    "lena_gray = cv2.imread('lena.jpg', cv2.IMREAD_GRAYSCALE)\n",
    "cv2.imshow('Lena', gaussian_blur(lena_gray))\n",
    "cv2.waitKey()\n",
    "cv2.destroyAllWindows()"
   ]
  },
  {
   "cell_type": "markdown",
   "id": "1376c73c",
   "metadata": {},
   "source": [
    "#### cv2.GaussicanBlur(src, ksize, sigmaX[, sigmaY, borderType]) -> dst\n",
    "#### cv3.bilateralFilter(src, d, sigmaColor, sigmaSapce, [, borderType])->dst"
   ]
  },
  {
   "cell_type": "code",
   "execution_count": 10,
   "id": "fa09698c",
   "metadata": {
    "ExecuteTime": {
     "end_time": "2021-11-25T06:54:42.302526Z",
     "start_time": "2021-11-25T06:54:42.232584Z"
    }
   },
   "outputs": [],
   "source": [
    "import cv2\n",
    "\n",
    "lena_gray = cv2.imread('lena.jpg', cv2.IMREAD_GRAYSCALE)\n",
    "cv2.imshow('Bilateral', cv2.bilateralFilter(lena_gray, 9, 0, 75))\n",
    "cv2.imshow('Gaussian', cv2.GaussianBlur(lena_gray, (5,5), 75))\n",
    "cv2.waitKey()\n",
    "cv2.destroyAllWindows()"
   ]
  },
  {
   "cell_type": "markdown",
   "id": "998c1113",
   "metadata": {},
   "source": [
    "### 모폴로지 연산\n",
    ">- 형태학적 변환\n",
    ">- 수축, 팽창\n",
    "#### 수축\n",
    ">- 화소의 부근에 하나라도 0이면 그 화소를 0으로, 그 외는 255로 처리\n",
    ">- 수축 후 물체의 두께 또는 크기가 감소하거나 단순히 흰색 영역이 이미지에서 감소\n",
    ">- 작은 백색 잡음을 제거, 두 개의 연결된 개체를 분리하는 데 용이"
   ]
  },
  {
   "cell_type": "code",
   "execution_count": 11,
   "id": "aa870de6",
   "metadata": {
    "ExecuteTime": {
     "end_time": "2021-11-25T06:54:42.309885Z",
     "start_time": "2021-11-25T06:54:42.304614Z"
    }
   },
   "outputs": [],
   "source": [
    "import numpy as np\n",
    "\n",
    "def contraction(img_in):\n",
    "    height, width = img_in.shape\n",
    "    img_out = np.zeros(img_in.shape, np.uint8)\n",
    "    for y in range(1, height -1):\n",
    "        for x in range(1, width-1):\n",
    "            img_out[y,x] = img_in[y,x]\n",
    "            if img_in[y-1, x-1] == 0 | img_in[y-1,x] == 0| \\\n",
    "               img_in[y-1, x+1] == 0 | img_in[y,x-1] == 0| \\\n",
    "               img_in[y, x+1] == 0 | img_in[y+1,x-1] == 0| \\\n",
    "               img_in[y+1, x] == 0 | img_in[y+1,x+1] == 0 :\n",
    "                img_out[y, x] =0\n",
    "    return img_out\n",
    "            "
   ]
  },
  {
   "cell_type": "code",
   "execution_count": 12,
   "id": "3f321a44",
   "metadata": {
    "ExecuteTime": {
     "end_time": "2021-11-25T06:54:43.685859Z",
     "start_time": "2021-11-25T06:54:42.312339Z"
    }
   },
   "outputs": [],
   "source": [
    "import cv2\n",
    "\n",
    "img5 = cv2.imread('five.png', cv2.IMREAD_GRAYSCALE)\n",
    "img5_cont = contraction(img5)\n",
    "\n",
    "cv2.imshow('5', img5)\n",
    "cv2.imshow('수축', img5_cont)\n",
    "cv2.waitKey()\n",
    "cv2.destroyAllWindows()"
   ]
  },
  {
   "cell_type": "markdown",
   "id": "ab2b0ca0",
   "metadata": {},
   "source": [
    "#### 팽창\n",
    ">- 화소 부근에 하나라도 255이면 그 화소를 255로, 그 외는 0으로 처리\n",
    ">- 이미지의 흰색 영역이 증가하거나 전경 물체의 크기가 증가\n",
    ">- 개체의 끊어진 부분을 결합하는 데 유용"
   ]
  },
  {
   "cell_type": "code",
   "execution_count": 13,
   "id": "8311115a",
   "metadata": {
    "ExecuteTime": {
     "end_time": "2021-11-25T06:54:43.695778Z",
     "start_time": "2021-11-25T06:54:43.687954Z"
    }
   },
   "outputs": [],
   "source": [
    "import numpy as np\n",
    "\n",
    "def expansion(img_in):\n",
    "    height, width = img_in.shape\n",
    "    img_out = np.zeros(img_in.shape, np.uint8)\n",
    "    \n",
    "    for y in range(1, height -1):\n",
    "        for x in range(1, width-1):\n",
    "            img_out[y,x] = img_in[y,x]\n",
    "            if img_in[y-1, x-1] == 255 | img_in[y-1,x] == 255| \\\n",
    "               img_in[y-1, x+1] == 255 | img_in[y,x-1] == 255| \\\n",
    "               img_in[y, x+1] == 255 | img_in[y+1,x-1] == 255| \\\n",
    "               img_in[y+1, x] == 255 | img_in[y+1,x+1] == 255 :\n",
    "                img_out[y, x] = 255\n",
    "    return img_out\n"
   ]
  },
  {
   "cell_type": "code",
   "execution_count": 14,
   "id": "d9968fb1",
   "metadata": {
    "ExecuteTime": {
     "end_time": "2021-11-25T06:54:44.324347Z",
     "start_time": "2021-11-25T06:54:43.699261Z"
    }
   },
   "outputs": [],
   "source": [
    "import cv2\n",
    "\n",
    "img5 = cv2.imread('five.png', cv2.IMREAD_GRAYSCALE)\n",
    "img5_exp = expansion(img5)\n",
    "\n",
    "cv2.imshow('5', img5)\n",
    "cv2.imshow('팽창',img5_exp)\n",
    "cv2.waitKey()\n",
    "cv2.destroyAllWindows()"
   ]
  },
  {
   "cell_type": "markdown",
   "id": "a45cc6a0",
   "metadata": {},
   "source": [
    "#### 열기(Opening)\n",
    ">- 수축 후 팽창\n",
    ">- 검은 바탕의 흰 잡음을 없애줌"
   ]
  },
  {
   "cell_type": "code",
   "execution_count": 15,
   "id": "d9cc8f3a",
   "metadata": {
    "ExecuteTime": {
     "end_time": "2021-11-25T06:54:46.261357Z",
     "start_time": "2021-11-25T06:54:44.327590Z"
    }
   },
   "outputs": [],
   "source": [
    "import cv2\n",
    "\n",
    "img5 = cv2.imread('five.png', cv2.IMREAD_GRAYSCALE)\n",
    "\n",
    "img5_cont = contraction(img5)\n",
    "img5_exp = expansion(img5_cont)\n",
    "\n",
    "cv2.imshow('5', img5)\n",
    "cv2.imshow('contraction', img5_cont)\n",
    "cv2.imshow('expansion', img5_exp)\n",
    "cv2.waitKey()\n",
    "cv2.destroyAllWindows()"
   ]
  },
  {
   "cell_type": "markdown",
   "id": "82582d26",
   "metadata": {},
   "source": [
    "#### 닫기(closing)\n",
    ">- 팽창 후 수축\n",
    ">- whole 제거에 유용"
   ]
  },
  {
   "cell_type": "code",
   "execution_count": 16,
   "id": "c36d37c2",
   "metadata": {
    "ExecuteTime": {
     "end_time": "2021-11-25T06:54:48.231883Z",
     "start_time": "2021-11-25T06:54:46.263523Z"
    }
   },
   "outputs": [],
   "source": [
    "import cv2\n",
    "\n",
    "img5 = cv2.imread('five.png', cv2.IMREAD_GRAYSCALE)\n",
    "\n",
    "img5_exp = expansion(img5_cont)\n",
    "img5_cont = contraction(img5)\n",
    "\n",
    "\n",
    "cv2.imshow('5', img5)\n",
    "cv2.imshow('expansion', img5_exp)\n",
    "cv2.imshow('contraction', img5_cont)\n",
    "cv2.waitKey()\n",
    "cv2.destroyAllWindows()"
   ]
  },
  {
   "cell_type": "markdown",
   "id": "beb9b028",
   "metadata": {},
   "source": [
    "#### cv2.erode(src, dst, kernel, anchor = (-1,1), iteration =1)\n",
    ">- 수축을 위한 OpenCV함수"
   ]
  },
  {
   "cell_type": "code",
   "execution_count": 17,
   "id": "59f0392c",
   "metadata": {
    "ExecuteTime": {
     "end_time": "2021-11-25T06:54:48.371387Z",
     "start_time": "2021-11-25T06:54:48.234981Z"
    }
   },
   "outputs": [],
   "source": [
    "import cv2\n",
    "import numpy as np\n",
    "\n",
    "img = cv2.imread('j.png', 0)\n",
    "kernel = np.ones((5,5), np.uint8)\n",
    "cv2.imshow('j', img)\n",
    "cv2.imshow('erode', cv2.erode(img, kernel, iterations = 1))\n",
    "cv2.waitKey()\n",
    "cv2.destroyAllWindows()"
   ]
  },
  {
   "cell_type": "markdown",
   "id": "0cbae2cc",
   "metadata": {},
   "source": [
    "#### cv2.dilate(scrm dst, kernel, anchor=(-1,-1), iteration = 1)\n",
    ">- 팽창을 위한 OpenCV함수"
   ]
  },
  {
   "cell_type": "code",
   "execution_count": 18,
   "id": "f24b1db0",
   "metadata": {
    "ExecuteTime": {
     "end_time": "2021-11-25T06:54:48.521115Z",
     "start_time": "2021-11-25T06:54:48.373179Z"
    }
   },
   "outputs": [],
   "source": [
    "import cv2\n",
    "import numpy as np\n",
    "\n",
    "img = cv2.imread('j.png', 0)\n",
    "kernel = np.ones((5,5), np.uint8)\n",
    "cv2.imshow('j', img)\n",
    "cv2.imshow('erode', cv2.dilate(img, kernel, iterations = 1))\n",
    "cv2.waitKey()\n",
    "cv2.destroyAllWindows()"
   ]
  },
  {
   "cell_type": "markdown",
   "id": "6bd69c3b",
   "metadata": {},
   "source": [
    "#### cv2.morphologyEx(src, dst, op, kernel, anchor = (-1,-1), iteration = 1)\n",
    ">- 수축 후 팽창과 팽창 후 수축을 위한 함수\n",
    ">- **모폴로지타입**\n",
    ">- MORPH_ERODE : 수축\n",
    ">- MORPH_DILATE : 팽창\n",
    ">- MORPH_OPEN : 수축 후 팽창\n",
    ">- MORPH_CLOSE : 팽창 후 수축\n",
    ">- MORPH_GRADIENT \n",
    ">- MORPH_TOPHAT : 교차점을 제외하고 찾아줌\n",
    ">- MORPH_BLACKHAT : 교차점을 찾아줌\n",
    ">- MORPH_HITMISS : grayscale만 지원, hit or miss"
   ]
  },
  {
   "cell_type": "code",
   "execution_count": 19,
   "id": "202b2ba3",
   "metadata": {
    "ExecuteTime": {
     "end_time": "2021-11-25T06:54:48.937427Z",
     "start_time": "2021-11-25T06:54:48.523024Z"
    }
   },
   "outputs": [],
   "source": [
    "opening = cv2.morphologyEx(img, cv2.MORPH_OPEN, kernel)\n",
    "cv2.imshow('open', opening)\n",
    "cv2.waitKey()\n",
    "cv2.destroyAllWindows()"
   ]
  },
  {
   "cell_type": "markdown",
   "id": "4fad0f91",
   "metadata": {},
   "source": [
    "### 화질개선\n",
    ">- 이미지를 더 잘 인지할 수 있도록 하는 것(영상처리에서 매우 중요)\n",
    "#### 히스토그램과 밝기값 조절\n",
    ">- 히스토그램 분포를 확인 -> 수정하는 작업 필요\n",
    ">- 히스토그램 분포를 변경하여 이미지 화질 개선\n",
    "##### 히스토그램\n",
    ">- 각 화소가 이미지 내에 얼마나 분포하는지 알려줌\n",
    ">- 왼쪽에 위치할 수록 그림이 어둡다는 것을 의미"
   ]
  },
  {
   "cell_type": "code",
   "execution_count": 20,
   "id": "f3feee53",
   "metadata": {
    "ExecuteTime": {
     "end_time": "2021-11-25T06:54:48.945649Z",
     "start_time": "2021-11-25T06:54:48.940550Z"
    }
   },
   "outputs": [],
   "source": [
    "import numpy as np\n",
    "\n",
    "def histogram(img):\n",
    "    height, width = img.shape\n",
    "    hist = np.zeros(256)\n",
    "    for y in range(height):\n",
    "        for x in range(width):\n",
    "            hist[img[y,x]] = hist[img[y,x]] + 1\n",
    "    return hist"
   ]
  },
  {
   "cell_type": "code",
   "execution_count": 21,
   "id": "39d9d60b",
   "metadata": {
    "ExecuteTime": {
     "end_time": "2021-11-25T06:54:50.209571Z",
     "start_time": "2021-11-25T06:54:48.947802Z"
    }
   },
   "outputs": [
    {
     "data": {
      "image/png": "[encoded data removed]",
      "text/plain": [
       "<Figure size 432x288 with 1 Axes>"
      ]
     },
     "metadata": {
      "needs_background": "light"
     },
     "output_type": "display_data"
    }
   ],
   "source": [
    "import cv2\n",
    "import matplotlib.pyplot as plt\n",
    "\n",
    "img = cv2.imread('couple256.jpg', cv2.IMREAD_GRAYSCALE)\n",
    "plt.bar(x = range(256), height = histogram(img), width = 1)\n",
    "plt.show()"
   ]
  },
  {
   "cell_type": "markdown",
   "id": "07d04f14",
   "metadata": {},
   "source": [
    "##### 히스토그램 밝기값 조절\n",
    ">- 화소의 값을 전체적으로 크게 하면 더 밝은 이미지를 얻을 수 있고, 반대로 화소의 값을 전체적으로 작게 하면 더 어두운 이미지를 얻을 수 있음"
   ]
  },
  {
   "cell_type": "code",
   "execution_count": 22,
   "id": "a862ac6e",
   "metadata": {
    "ExecuteTime": {
     "end_time": "2021-11-25T06:54:50.215777Z",
     "start_time": "2021-11-25T06:54:50.211329Z"
    }
   },
   "outputs": [],
   "source": [
    "import numpy as np\n",
    "\n",
    "def brightness(img, threshold = 0):\n",
    "    height, width = img.shape\n",
    "    img_ = np.zeros(img.shape, dtype = np.uint8)\n",
    "    \n",
    "    for y in range(height):\n",
    "        for x in range(width):\n",
    "            temp = img[y][x] + threshold\n",
    "            if( temp > 255) :\n",
    "                img_[y][x] = 255\n",
    "            elif (temp < 0):\n",
    "                img_[y][x] = 0\n",
    "            else:\n",
    "                img_[y][x] = temp\n",
    "    return img_"
   ]
  },
  {
   "cell_type": "code",
   "execution_count": 23,
   "id": "b057a715",
   "metadata": {
    "ExecuteTime": {
     "end_time": "2021-11-25T06:54:50.936307Z",
     "start_time": "2021-11-25T06:54:50.223007Z"
    }
   },
   "outputs": [],
   "source": [
    "img = cv2.imread('couple256.jpg', cv2.IMREAD_GRAYSCALE)\n",
    "img2 = brightness(img, threshold = 100)\n",
    "cv2.imshow('Image', np.c_[img, img2])\n",
    "cv2.waitKey()\n",
    "cv2.destroyAllWindows()"
   ]
  },
  {
   "cell_type": "code",
   "execution_count": 24,
   "id": "0845ace5",
   "metadata": {
    "ExecuteTime": {
     "end_time": "2021-11-25T06:54:51.584351Z",
     "start_time": "2021-11-25T06:54:50.944981Z"
    }
   },
   "outputs": [
    {
     "data": {
      "text/plain": [
       "(0.0, 256.0)"
      ]
     },
     "execution_count": 24,
     "metadata": {},
     "output_type": "execute_result"
    },
    {
     "data": {
      "image/png": "[encoded data removed]",
      "text/plain": [
       "<Figure size 432x288 with 1 Axes>"
      ]
     },
     "metadata": {
      "needs_background": "light"
     },
     "output_type": "display_data"
    }
   ],
   "source": [
    "import matplotlib.pyplot as plt\n",
    "\n",
    "img2 = brightness(img, threshold = 100)\n",
    "plt.bar(x = list(range(256)), height = histogram(img2), width = 1)\n",
    "plt.xlim([0,256])"
   ]
  },
  {
   "cell_type": "markdown",
   "id": "940d025a",
   "metadata": {},
   "source": [
    "#### 콘트라스트 강조\n",
    ">- 콘트라스트 강조는 명암의 대비를 극대화 시켜 선명한 영상을 만드는 것\n",
    ">- 입력 영상의 임의 구간을 출력 영상의 정해진 다른 구간에 매핑(정규화)\n",
    ">- 입력 이미지의 농도 구간 a~b를 출력 이미지의 새로운 구간 a! ~ b!로 출력"
   ]
  },
  {
   "cell_type": "code",
   "execution_count": 25,
   "id": "07b0da2e",
   "metadata": {
    "ExecuteTime": {
     "end_time": "2021-11-25T06:54:51.589780Z",
     "start_time": "2021-11-25T06:54:51.585865Z"
    }
   },
   "outputs": [],
   "source": [
    "import numpy as np\n",
    "\n",
    "def contrast(img, low = 0, high = 255):\n",
    "    height, width = img.shape\n",
    "    img_ = np.zeros(img.shape, dtype = np.uint8)\n",
    "    \n",
    "    for y in range(height):\n",
    "        for x in range(width):\n",
    "            temp = (int)((255/(high-low)) * (img[y][x] - low))\n",
    "            if (temp > 255):\n",
    "                img_[y][x] = 255\n",
    "            elif (temp <0):\n",
    "                img_[y][x] = 0\n",
    "            else:\n",
    "                img_[y][x] = temp\n",
    "    return img_"
   ]
  },
  {
   "cell_type": "code",
   "execution_count": 26,
   "id": "565ce843",
   "metadata": {
    "ExecuteTime": {
     "end_time": "2021-11-25T06:54:51.898358Z",
     "start_time": "2021-11-25T06:54:51.591675Z"
    }
   },
   "outputs": [],
   "source": [
    "img = cv2.imread('couple256.jpg', cv2.IMREAD_GRAYSCALE)\n",
    "img2 = contrast(img, 0, 160)\n",
    "cv2.imshow('Image', np.c_[img, img2])\n",
    "cv2.waitKey()\n",
    "cv2.destroyAllWindows()"
   ]
  },
  {
   "cell_type": "code",
   "execution_count": 27,
   "id": "b763448d",
   "metadata": {
    "ExecuteTime": {
     "end_time": "2021-11-25T06:54:53.165094Z",
     "start_time": "2021-11-25T06:54:51.900336Z"
    }
   },
   "outputs": [
    {
     "data": {
      "image/png": "[encoded data removed]",
      "text/plain": [
       "<Figure size 432x576 with 2 Axes>"
      ]
     },
     "metadata": {
      "needs_background": "light"
     },
     "output_type": "display_data"
    }
   ],
   "source": [
    "import matplotlib.pyplot as plt\n",
    "import cv2\n",
    "\n",
    "img = cv2.imread('couple256.jpg', cv2.IMREAD_GRAYSCALE)\n",
    "img2 = contrast(img, 0, 160)\n",
    "\n",
    "plt.figure(figsize = (6,8))\n",
    "plt.subplot(211)\n",
    "plt.bar(x = range(256), height = histogram(img), width = 1)\n",
    "plt.title('Input')\n",
    "\n",
    "plt.subplot(212)\n",
    "plt.bar(x = range(256), height = histogram(img2), width = 1)\n",
    "plt.title('Contrast up')\n",
    "plt.show()"
   ]
  },
  {
   "cell_type": "markdown",
   "id": "a0ceb43c",
   "metadata": {},
   "source": [
    "#### cv2.normalize(scr, dst, alpha, beta, flag) ->dst\n",
    ">- 콘트라스트 강조를 구현한 함수\n",
    ">- alpha : 정규화하기 위한 구간 1, 이미지 콘트라스트 강조 시 0을 사용\n",
    ">- beta :  정구화 하기 위한 구간 2, 이미지 콘트라스트 강조 시 255 사용"
   ]
  },
  {
   "cell_type": "code",
   "execution_count": 28,
   "id": "02b19c15",
   "metadata": {
    "ExecuteTime": {
     "end_time": "2021-11-25T06:54:53.370810Z",
     "start_time": "2021-11-25T06:54:53.166799Z"
    }
   },
   "outputs": [],
   "source": [
    "import cv2\n",
    "\n",
    "img = cv2.imread('couple256.jpg', cv2.IMREAD_GRAYSCALE)\n",
    "height, width = img.shape\n",
    "\n",
    "for y in range(height):\n",
    "    for x in range(width):\n",
    "        if img[y,x] > 160:\n",
    "            img[y,x] = 160\n",
    "            \n",
    "img2 = cv2.normalize(img, None, 0 , 255, cv2.NORM_MINMAX)\n",
    "cv2.imshow('Image', np.c_[img, img2])\n",
    "cv2.waitKey()\n",
    "cv2.destroyAllWindows()"
   ]
  },
  {
   "cell_type": "markdown",
   "id": "c7b5705d",
   "metadata": {},
   "source": [
    "#### 히스토그램 이퀼라이제이션\n",
    ">- 히스토그램 저네 영역에 골고루 분포되어 있을 때 좋은 이미지'\n",
    ">- 히스토그램 이퀼라이제이션의 이론적인 방법은 이미지의 각 픽셀의 누적분포함수 값을 구하고, 히스토그램 균일화 공식에 대입하여 0~255 사이의 값으로 변환\n",
    ">- 새롭게 구해진 값으로 이미지를 표현하면 균일화 된 이미지를 얻을 수 있음\n",
    "\n",
    "##### 히스토그램 이퀼라이제이션 구현\n",
    ">- scale_factor = 255 / (width * height)\n",
    ">- 각 농도의 히스토그램 누적 합을 계산"
   ]
  },
  {
   "cell_type": "code",
   "execution_count": 29,
   "id": "9e043f32",
   "metadata": {
    "ExecuteTime": {
     "end_time": "2021-11-25T06:54:53.381803Z",
     "start_time": "2021-11-25T06:54:53.373401Z"
    }
   },
   "outputs": [],
   "source": [
    "import numpy as np\n",
    "\n",
    "def equalization(img):\n",
    "    height, width = img.shape\n",
    "    img_in = img.copy()\n",
    "    img_out = np.zeros(img_in.shape, dtype = np.uint8)\n",
    "    histogram = np.zeros(256, dtype = int)\n",
    "    sum_histo = np.zeros(256, dtype = int)\n",
    "    \n",
    "    for y in range(height):\n",
    "        for x in range(width):\n",
    "            histogram[img_in[y,x]] = histogram[img_in[y,x]] + 1\n",
    "            \n",
    "    sum = 0\n",
    "    scale_factor = 255/ (width * height)\n",
    "    for i in range(256):\n",
    "        sum = sum + histogram[i]\n",
    "        sum_histo[i] = np.ceil(sum * scale_factor)\n",
    "        \n",
    "    for y in range(height):\n",
    "        for x in range(width):\n",
    "            img_out[y,x] = sum_histo[img_in[y][x]]\n",
    "    return img_out"
   ]
  },
  {
   "cell_type": "code",
   "execution_count": 30,
   "id": "331ab72f",
   "metadata": {
    "ExecuteTime": {
     "end_time": "2021-11-25T06:54:54.395150Z",
     "start_time": "2021-11-25T06:54:53.385299Z"
    }
   },
   "outputs": [],
   "source": [
    "import cv2\n",
    "\n",
    "img = cv2.imread('couple256.jpg', cv2.IMREAD_GRAYSCALE)\n",
    "img2 = equalization(img)\n",
    "cv2.imshow('Image', np.c_[img, img2])\n",
    "cv2.waitKey()\n",
    "cv2.destroyAllWindows()"
   ]
  },
  {
   "cell_type": "code",
   "execution_count": 31,
   "id": "1adc4ff5",
   "metadata": {
    "ExecuteTime": {
     "end_time": "2021-11-25T06:54:55.351259Z",
     "start_time": "2021-11-25T06:54:54.400233Z"
    }
   },
   "outputs": [
    {
     "data": {
      "image/png": "[encoded data removed]",
      "text/plain": [
       "<Figure size 864x252 with 2 Axes>"
      ]
     },
     "metadata": {
      "needs_background": "light"
     },
     "output_type": "display_data"
    }
   ],
   "source": [
    "import matplotlib.pyplot as plt\n",
    "import cv2\n",
    "\n",
    "img = cv2.imread('couple256.jpg', cv2.IMREAD_GRAYSCALE)\n",
    "img2 = equalization(img)\n",
    "\n",
    "plt.figure(figsize = (12, 3.5))\n",
    "plt.subplot(121)\n",
    "plt.bar(x = range(256), height = histogram(img), width = 1)\n",
    "plt.title('Input')\n",
    "plt.subplot(122)\n",
    "plt.bar(x  = range(256), height = histogram(img2), width = 1)\n",
    "plt.title('Contrast up')\n",
    "plt.show()"
   ]
  },
  {
   "cell_type": "markdown",
   "id": "16d27ec3",
   "metadata": {},
   "source": [
    "##### Numpy를 이용한 히스토그램 이퀄라이제이션 구현\n",
    ">- 히스토그램 이퀄라이제이션은 넘파이의 함수를 이용하면 반복문을 사용하지 않고, 쉽게 구현 가능"
   ]
  },
  {
   "cell_type": "code",
   "execution_count": 32,
   "id": "eafcf2f3",
   "metadata": {
    "ExecuteTime": {
     "end_time": "2021-11-25T06:54:55.356788Z",
     "start_time": "2021-11-25T06:54:55.353032Z"
    }
   },
   "outputs": [],
   "source": [
    "import numpy as np\n",
    "\n",
    "def equalization2(img):\n",
    "    hist, bins = np.histogram(img.flatten(), 256, [0,256])\n",
    "    cdf = hist.cumsum()\n",
    "    cdf_m = np.ma.masked_equal(cdf, 0)\n",
    "    cdf_m = (cdf_m - cdf_m.min()) * 255 / (cdf_m.max() - cdf_m.min())\n",
    "    cdf = np.ma.filled(cdf_m, 0).astype('uint8')\n",
    "    return cdf[img]"
   ]
  },
  {
   "cell_type": "markdown",
   "id": "5d028a0f",
   "metadata": {},
   "source": [
    "##### cv2.equalizeHist()"
   ]
  },
  {
   "cell_type": "code",
   "execution_count": 33,
   "id": "8686b031",
   "metadata": {
    "ExecuteTime": {
     "end_time": "2021-11-25T06:54:56.753450Z",
     "start_time": "2021-11-25T06:54:55.358719Z"
    }
   },
   "outputs": [],
   "source": [
    "import cv2\n",
    "\n",
    "img = cv2.imread('couple256.jpg', cv2.IMREAD_GRAYSCALE)\n",
    "\n",
    "img2 = cv2.equalizeHist(img)\n",
    "cv2.imshow('Image', np.c_[img, img2])\n",
    "cv2.waitKey()\n",
    "cv2.destroyAllWindows()"
   ]
  },
  {
   "cell_type": "markdown",
   "id": "7164dc7c",
   "metadata": {},
   "source": [
    "##### 누적 히스토그램 그래프\n",
    ">- 이미지의 농도에 따라 화소 개수의 누적 비율을 그래프로 나타내면 우상향 화소의 개수가 균등하게 증가하는 그래프를 보이기 때문"
   ]
  },
  {
   "cell_type": "code",
   "execution_count": 34,
   "id": "a6b2116c",
   "metadata": {
    "ExecuteTime": {
     "end_time": "2021-11-25T06:54:57.390157Z",
     "start_time": "2021-11-25T06:54:56.756671Z"
    }
   },
   "outputs": [
    {
     "data": {
      "image/png": "[encoded data removed]",
      "text/plain": [
       "<Figure size 432x288 with 2 Axes>"
      ]
     },
     "metadata": {
      "needs_background": "light"
     },
     "output_type": "display_data"
    }
   ],
   "source": [
    "import cv2\n",
    "import matplotlib.pyplot as plt\n",
    "import numpy as np\n",
    "\n",
    "img = cv2.imread('couple256.jpg', cv2.IMREAD_GRAYSCALE)\n",
    "img2 = cv2.equalizeHist(img)\n",
    "\n",
    "hist = histogram(img2)\n",
    "\n",
    "cumsum_hist = np.cumsum(hist)\n",
    "sum_hist = np.sum(hist)\n",
    "plt.bar(range(256), hist, width = 1)\n",
    "ax = plt.twinx()\n",
    "ax.plot(range(256), cumsum_hist/sum_hist, 'r')\n",
    "plt.show()"
   ]
  },
  {
   "cell_type": "markdown",
   "id": "08fa7d61",
   "metadata": {},
   "source": [
    "#### 적응적 히스토그램 이퀄라이제이션\n",
    "##### CLAHE\n",
    ">- 적응적 히스토그램 이퀄라이제이션 :  각각 이미지의 개별 영역에 해당하는 여러 히스토그램을 계산하고 이를 사용하여 이미지의 밝기값을 재분배한다는 점, 로컬 대비를 개선하고 이미지의 각 영역에서 엣지의 정의를 향상시키는데 적합\n",
    ">- AHE : 이미지의 비교적 균일한 영역에서 잡음을 과도하게 증폭(콘트라스트 강조)하는 경향\n",
    ">- 적응형 히스토그램 이퀄라이제이션의 변형은 콘트라스트를 제한하여 이를 방지\n",
    ">- 주어진 화소 값 근처의 대비 증폭은 변환 함수의 기울기에 의해 제공\n",
    ">- 인접 누적 분포 함수의 기울기에 비례, 해당 화소 값에서 히스토그램값에 비례\n",
    ">- 인접 누적 분포 함수의 기울기와 변환함수의 기울기 제한\n",
    ">- 히스토그램이 클리핑 되는 값인 소위 클립 제한은 히스토그램의 정규화와 이에 따른 인접 여영역의 크기에 따라 달라짐\n",
    ">- 클립 제한을 초과하는 히스토그램 부분은 버리지 않고 모든 히스토그램 빈에 균등하게 재배포 하는 것이 좋음\n",
    ">- 재배포는 일부 빈을 다시 클립 제한 영역을 넘어서서 규정된 제한보다 크고 정확한 값이 이미지에 따라 가라 달라지는 효과적인 제한을 생성\n",
    "##### cv2.createCLAHE(clipLimit = 40.0, tileGridSize = (8,8))\n",
    ">- tileGridSize() : 히스토그램 이퀄라이제이션을 위한 그리드 크기, 입력 이미지는 동일한 크기의 직사각형 타일로 분할, 행과 열의 타일 수를 정의"
   ]
  },
  {
   "cell_type": "code",
   "execution_count": 35,
   "id": "be2891db",
   "metadata": {
    "ExecuteTime": {
     "end_time": "2021-11-25T06:54:59.120119Z",
     "start_time": "2021-11-25T06:54:57.391849Z"
    }
   },
   "outputs": [],
   "source": [
    "import cv2\n",
    "import matplotlib.pyplot as plt\n",
    "import numpy as np\n",
    "\n",
    "img = cv2.imread('tsukuba.png', cv2.IMREAD_GRAYSCALE)\n",
    "\n",
    "img2 = cv2.equalizeHist(img)\n",
    "clahe = cv2.createCLAHE(clipLimit = 2.0, tileGridSize = (8,8))\n",
    "img3 = clahe.apply(img)\n",
    "\n",
    "cv2.imshow('Equalization vs CLAHE', np.c_[img2, img3])\n",
    "cv2.waitKey()\n",
    "cv2.destroyAllWindows()"
   ]
  },
  {
   "cell_type": "code",
   "execution_count": 36,
   "id": "587cf3db",
   "metadata": {
    "ExecuteTime": {
     "end_time": "2021-11-25T06:55:00.281427Z",
     "start_time": "2021-11-25T06:54:59.123241Z"
    }
   },
   "outputs": [
    {
     "data": {
      "image/png": "[encoded data removed]",
      "text/plain": [
       "<Figure size 864x252 with 4 Axes>"
      ]
     },
     "metadata": {
      "needs_background": "light"
     },
     "output_type": "display_data"
    }
   ],
   "source": [
    "import cv2\n",
    "import matplotlib.pyplot as plt\n",
    "import numpy as np\n",
    "\n",
    "img = cv2.imread('tsukuba.png', cv2.IMREAD_GRAYSCALE)\n",
    "\n",
    "img2 = cv2.equalizeHist(img)\n",
    "clahe = cv2.createCLAHE(clipLimit = 2.0, tileGridSize = (8,8))\n",
    "img3 = clahe.apply(img)\n",
    "\n",
    "hist1 = histogram(img2)\n",
    "cumsum_hist1 = np.cumsum(hist1)\n",
    "sum_hist1 = np.sum(hist1)\n",
    "\n",
    "hist2 = histogram(img3)\n",
    "cumsum_hist2 = np.cumsum(hist2)\n",
    "sum_hist2= np.sum(hist2)\n",
    "\n",
    "plt.figure(figsize = (12, 3.5))\n",
    "plt.subplot(121)\n",
    "plt.bar(x = range(256), height = histogram(img), width = 1)\n",
    "ax = plt.twinx()\n",
    "ax.plot(range(256), cumsum_hist1/sum_hist1, 'r')\n",
    "plt.title('Equalization')\n",
    "\n",
    "plt.subplot(122)\n",
    "plt.bar(x = range(256), height = histogram(img2), width = 1)\n",
    "ax = plt.twinx()\n",
    "ax.plot(range(256), cumsum_hist2/sum_hist2, 'r')\n",
    "plt.title('CLACHE')\n",
    "plt.show()"
   ]
  },
  {
   "cell_type": "markdown",
   "id": "ea070412",
   "metadata": {},
   "source": [
    "#### 완벽하게 평평한 히스토그램 이퀄라이제이션\n",
    ">- 히스토그램 전체 영역에 완전히 균등하게 분포하도록 하는 방법\n",
    "##### 히스토그램 평탄화 알고리즘\n",
    ">- 농도레벨을 8단계로 규정, 화소의 수는 40개, 각 농도에 다른 화소의 개수를 구한 히스토그램이 어떻게 균일화 과정으로 되는 지 설명하기 위한 과정"
   ]
  },
  {
   "cell_type": "code",
   "execution_count": 1,
   "id": "e0116292",
   "metadata": {
    "ExecuteTime": {
     "end_time": "2021-11-26T04:39:44.061732Z",
     "start_time": "2021-11-26T04:39:44.057621Z"
    }
   },
   "outputs": [],
   "source": [
    "class SortedPixel():\n",
    "    def __init__(self, x, y, weight):\n",
    "        self.x = x\n",
    "        self.y = y\n",
    "        self.weight = weight"
   ]
  },
  {
   "cell_type": "code",
   "execution_count": 11,
   "id": "1d795e3e",
   "metadata": {
    "ExecuteTime": {
     "end_time": "2021-11-26T04:47:16.807319Z",
     "start_time": "2021-11-26T04:47:16.799902Z"
    }
   },
   "outputs": [],
   "source": [
    "import numpy as np\n",
    "\n",
    "def get_weight(pixels, x, y):\n",
    "    weight = 0\n",
    "    xm = x - 1\n",
    "    ym = y - 1\n",
    "    xp = x + 1\n",
    "    yp = y + 1\n",
    "    d = np.zeros(8, dtype = int)\n",
    "    height, width = pixels.shape\n",
    "    \n",
    "    if(xm < 0):\n",
    "        xm = x\n",
    "    if(ym < 0) : \n",
    "        ym = y\n",
    "    if(xp >= width):\n",
    "        xp = x\n",
    "    if(yp >= height):\n",
    "        yp = y\n",
    "    \n",
    "    d[0] = pixels[ym, xm]\n",
    "    d[1] = pixels[ym, x]\n",
    "    d[2] = pixels[ym, xp]\n",
    "    d[3] = pixels[y, xm]\n",
    "    d[4] = pixels[y, xp]\n",
    "    d[5] = pixels[yp, xm]\n",
    "    d[6] = pixels[yp, x]\n",
    "    d[7] = pixels[yp, xp]\n",
    "    \n",
    "    weight = np.sum(d)\n",
    "    return weight"
   ]
  },
  {
   "cell_type": "code",
   "execution_count": 12,
   "id": "45334388",
   "metadata": {
    "ExecuteTime": {
     "end_time": "2021-11-26T04:47:17.349546Z",
     "start_time": "2021-11-26T04:47:17.343477Z"
    }
   },
   "outputs": [],
   "source": [
    "# 코드 주위 8개 화소의 총합을 이용해 정렬하는 함수\n",
    "# operator.attegetter()함수는 SortPixel 객체의 weight 속성을 정렬기준이 되는 키로 지정하기 위해 사용\n",
    "\n",
    "from operator import attrgetter\n",
    "\n",
    "def sort_by_weight(pixels, level, count):\n",
    "    height, width  = pixels.shape\n",
    "    data = []\n",
    "    inum = 0\n",
    "    weight = 0\n",
    "    \n",
    "    for y in range(height):\n",
    "        for x in range(width):\n",
    "            try:\n",
    "                if(pixels[y,x] == level):\n",
    "                    w = get_weight(pixels, x, y)\n",
    "                    data.append(SortedPixel(x, y, w))\n",
    "                    inum = inum + 1\n",
    "            except:\n",
    "                pass\n",
    "    data.sort(key = attrgetter('weight'))\n",
    "    \n",
    "    return data"
   ]
  },
  {
   "cell_type": "code",
   "execution_count": 13,
   "id": "c854c062",
   "metadata": {
    "ExecuteTime": {
     "end_time": "2021-11-26T04:47:17.882760Z",
     "start_time": "2021-11-26T04:47:17.872716Z"
    }
   },
   "outputs": [],
   "source": [
    "# 히스토그램 평탄화\n",
    "import numpy as np\n",
    "\n",
    "def flattening(img):\n",
    "    height, width = img.shape\n",
    "    img_in = img.copy()\n",
    "    img_out = np.zeros(img.shape, dtype = np.uint8)\n",
    "    histogram = np.zeros(256, dtype = int)\n",
    "    \n",
    "    for y in range(height):\n",
    "        for x in range(width):\n",
    "            histogram[img_in[y,x]] = histogram[img_in[y,x]] + 1\n",
    "    low, high, delta = 255, 255, 0\n",
    "    avg_pixel_count = (int)((height * width)/256)\n",
    "    \n",
    "    for i in range(255, -1, -1):\n",
    "        sum = 0\n",
    "        while(sum < avg_pixel_count):\n",
    "            sum = sum + histogram[low]\n",
    "            low = low -1\n",
    "            \n",
    "        low = low + 1\n",
    "        delta = histogram[low] - (sum - avg_pixel_count)\n",
    "        buffer = sort_by_weight(img_in, low, histogram[low])\n",
    "        \n",
    "        if(low < high):\n",
    "            for y in range(height):\n",
    "                for x in range(width):\n",
    "                    if(img_in[y,x] >= low+1) & (img_in[y,x] <= high):\n",
    "                        img_out[y,x] = i\n",
    "                        \n",
    "                        \n",
    "        for j in range(delta):\n",
    "            img_out[int(buffer[j].y), int(buffer[j].x)] = i\n",
    "            img_in[int(buffer[j].y), int(buffer[j].x)] = low + 1\n",
    "        \n",
    "        histogram[low] = histogram[low] - delta\n",
    "        high = low\n",
    "        \n",
    "    return img_out"
   ]
  },
  {
   "cell_type": "code",
   "execution_count": 15,
   "id": "a40d2a61",
   "metadata": {
    "ExecuteTime": {
     "end_time": "2021-11-26T04:48:48.675600Z",
     "start_time": "2021-11-26T04:48:08.801108Z"
    }
   },
   "outputs": [],
   "source": [
    "import cv2\n",
    "\n",
    "img = cv2.imread('couple256.jpg', cv2.IMREAD_GRAYSCALE)\n",
    "img2 = flattening(img)\n",
    "cv2.imshow('Image Flattening', np.c_[img, img2])\n",
    "cv2.waitKey()\n",
    "cv2.destroyAllWindows()"
   ]
  },
  {
   "cell_type": "code",
   "execution_count": 16,
   "id": "bcaad60f",
   "metadata": {
    "ExecuteTime": {
     "end_time": "2021-11-26T04:52:35.091135Z",
     "start_time": "2021-11-26T04:51:57.528146Z"
    }
   },
   "outputs": [
    {
     "data": {
      "image/png": "[encoded data removed]",
      "text/plain": [
       "<Figure size 864x216 with 2 Axes>"
      ]
     },
     "metadata": {
      "needs_background": "light"
     },
     "output_type": "display_data"
    }
   ],
   "source": [
    "import matplotlib.pyplot as plt\n",
    "import cv2\n",
    "\n",
    "img = cv2.imread('couple256.jpg', cv2.IMREAD_GRAYSCALE)\n",
    "img2 = flattening(img)\n",
    "\n",
    "hist1 = cv2.calcHist(images = [img], channels = [0], mask = None, histSize = [256], ranges = [0,256])\n",
    "hist2 = cv2.calcHist(images = [img2], channels = [0], mask = None, histSize = [256], ranges = [0,256])\n",
    "\n",
    "plt.figure(figsize = (12,3))\n",
    "plt.subplot(121)\n",
    "plt.bar(x = range(256), height = hist1.flatten(), width = 1)\n",
    "plt.title('Input')\n",
    "\n",
    "plt.subplot(122)\n",
    "plt.bar(x = range(256), height = hist2.flatten(), width = 1)\n",
    "plt.title('flattening')\n",
    "plt.show()"
   ]
  },
  {
   "cell_type": "code",
   "execution_count": 18,
   "id": "b2e23ccb",
   "metadata": {
    "ExecuteTime": {
     "end_time": "2021-11-26T04:56:34.864378Z",
     "start_time": "2021-11-26T04:55:59.481514Z"
    }
   },
   "outputs": [
    {
     "data": {
      "image/png": "[encoded data removed]",
      "text/plain": [
       "<Figure size 432x288 with 2 Axes>"
      ]
     },
     "metadata": {
      "needs_background": "light"
     },
     "output_type": "display_data"
    },
    {
     "data": {
      "image/png": "[encoded data removed]",
      "text/plain": [
       "<Figure size 432x288 with 2 Axes>"
      ]
     },
     "metadata": {
      "needs_background": "light"
     },
     "output_type": "display_data"
    }
   ],
   "source": [
    "import cv2\n",
    "\n",
    "img = cv2.imread('couple256.jpg', cv2.IMREAD_GRAYSCALE)\n",
    "img2 = flattening(img)\n",
    "\n",
    "hist2 = cv2.calcHist(images = [img2], channels =[0], mask = None, histSize = [256], ranges = [0,256])\n",
    "\n",
    "cumsum_hist = np.cumsum(hist2)\n",
    "sum_hist = np.sum(hist2)\n",
    "plt.plot(range(256), hist2, 'r')\n",
    "ax = plt.twinx()\n",
    "ax.plot(range(256), cumsum_hist/sum_hist, 'b:')\n",
    "plt.show(0)"
   ]
  }
 ],
 "metadata": {
  "kernelspec": {
   "display_name": "Python 3",
   "language": "python",
   "name": "python3"
  },
  "language_info": {
   "codemirror_mode": {
    "name": "ipython",
    "version": 3
   },
   "file_extension": ".py",
   "mimetype": "text/x-python",
   "name": "python",
   "nbconvert_exporter": "python",
   "pygments_lexer": "ipython3",
   "version": "3.8.2"
  },
  "toc": {
   "base_numbering": 1,
   "nav_menu": {},
   "number_sections": true,
   "sideBar": true,
   "skip_h1_title": false,
   "title_cell": "Table of Contents",
   "title_sidebar": "Contents",
   "toc_cell": false,
   "toc_position": {},
   "toc_section_display": true,
   "toc_window_display": false
  },
  "varInspector": {
   "cols": {
    "lenName": 16,
    "lenType": 16,
    "lenVar": 40
   },
   "kernels_config": {
    "python": {
     "delete_cmd_postfix": "",
     "delete_cmd_prefix": "del ",
     "library": "var_list.py",
     "varRefreshCmd": "print(var_dic_list())"
    },
    "r": {
     "delete_cmd_postfix": ") ",
     "delete_cmd_prefix": "rm(",
     "library": "var_list.r",
     "varRefreshCmd": "cat(var_dic_list()) "
    }
   },
   "types_to_exclude": [
    "module",
    "function",
    "builtin_function_or_method",
    "instance",
    "_Feature"
   ],
   "window_display": false
  }
 },
 "nbformat": 4,
 "nbformat_minor": 5
}
